{
 "cells": [
  {
   "cell_type": "code",
   "execution_count": 1,
   "id": "53e94219-a618-4730-b9f9-25744833ed3b",
   "metadata": {},
   "outputs": [],
   "source": [
    "from ml_pipeline_handler.algorithm import AlgorithmType"
   ]
  },
  {
   "cell_type": "code",
   "execution_count": 2,
   "id": "0b88a99f-8199-4370-9928-fe2ed5de82e8",
   "metadata": {},
   "outputs": [
    {
     "name": "stdout",
     "output_type": "stream",
     "text": [
      "Example of using imports into jupyter notebook: AlgorithmType.LINEAR_REGRESSION\n"
     ]
    }
   ],
   "source": [
    "print(f\"Example of using imports into jupyter notebook: {AlgorithmType.LINEAR_REGRESSION}\")"
   ]
  }
 ],
 "metadata": {
  "kernelspec": {
   "display_name": "Python 3 (ipykernel)",
   "language": "python",
   "name": "python3"
  },
  "language_info": {
   "codemirror_mode": {
    "name": "ipython",
    "version": 3
   },
   "file_extension": ".py",
   "mimetype": "text/x-python",
   "name": "python",
   "nbconvert_exporter": "python",
   "pygments_lexer": "ipython3",
   "version": "3.12.7"
  }
 },
 "nbformat": 4,
 "nbformat_minor": 5
}
