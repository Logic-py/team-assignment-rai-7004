{
 "cells": [
  {
   "cell_type": "code",
   "execution_count": 4,
   "id": "53e94219-a618-4730-b9f9-25744833ed3b",
   "metadata": {},
   "outputs": [],
   "source": [
    "from ml_pipeline_handler.algorithm import AlgorithmType"
   ]
  },
  {
   "cell_type": "code",
   "execution_count": 6,
   "id": "875eb10e-cca3-4b34-bfda-b1985efa4c40",
   "metadata": {},
   "outputs": [
    {
     "data": {
      "text/plain": [
       "<AlgorithmType.LINEAR_REGRESSION: 'linear_regression'>"
      ]
     },
     "execution_count": 6,
     "metadata": {},
     "output_type": "execute_result"
    }
   ],
   "source": [
    "AlgorithmType.LINEAR_REGRESSION"
   ]
  }
 ],
 "metadata": {
  "kernelspec": {
   "display_name": "Python 3 (ipykernel)",
   "language": "python",
   "name": "python3"
  },
  "language_info": {
   "codemirror_mode": {
    "name": "ipython",
    "version": 3
   },
   "file_extension": ".py",
   "mimetype": "text/x-python",
   "name": "python",
   "nbconvert_exporter": "python",
   "pygments_lexer": "ipython3",
   "version": "3.12.7"
  }
 },
 "nbformat": 4,
 "nbformat_minor": 5
}
