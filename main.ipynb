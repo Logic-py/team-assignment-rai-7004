{
 "cells": [
  {
   "cell_type": "code",
   "execution_count": 1,
   "id": "15112e4c-3d7d-465b-806d-4940f4fe46c4",
   "metadata": {},
   "outputs": [],
   "source": [
    "from src.ml_pipeline_handler.algorithm import AlgorithmType\n",
    "from src.ml_pipeline_handler.pipeline.base_config import PipelineConfig\n",
    "from src.ml_pipeline_handler.pipeline.pipeline_factory import PipelineFactory"
   ]
  },
  {
   "cell_type": "code",
   "execution_count": 2,
   "id": "acd2da73-14d4-4a1e-87d1-d40c9c7459e2",
   "metadata": {},
   "outputs": [],
   "source": [
    "data_path: str = \"src/data/housing.csv\"\n",
    "features: list[str] = [\"OverallQual\", \"GrLivArea\", \"GarageCars\", \"GarageArea\", \"TotalBsmtSF\"]\n",
    "target_column: str = \"SalePrice\"\n",
    "algorithm = AlgorithmType.LINEAR_REGRESSION\n",
    "out_file: str = \"example out file.pkl\"\n",
    "random_state: int = 42\n",
    "num_folds: int = 5"
   ]
  },
  {
   "cell_type": "code",
   "execution_count": 3,
   "id": "ba3cb586-9b80-4586-814f-a0bac0fc001b",
   "metadata": {},
   "outputs": [],
   "source": [
    "pipeline_config = PipelineConfig(\n",
    "    data_path=data_path,\n",
    "    features=features,\n",
    "    target_column=target_column,\n",
    "    algorithm=algorithm,\n",
    "    out_file=out_file,\n",
    "    random_state=random_state,\n",
    "    num_folds=num_folds,\n",
    ")"
   ]
  },
  {
   "cell_type": "code",
   "execution_count": 4,
   "id": "4ff48615-7e7b-4cca-a89e-1f05f9a44f52",
   "metadata": {},
   "outputs": [],
   "source": [
    "pipeline = PipelineFactory.build_pipeline(config=pipeline_config)"
   ]
  },
  {
   "cell_type": "code",
   "execution_count": 5,
   "id": "ad8b1a64-818e-470f-a984-f9d53b9bff08",
   "metadata": {},
   "outputs": [],
   "source": [
    "prediction = pipeline.predict()"
   ]
  },
  {
   "cell_type": "code",
   "execution_count": 6,
   "id": "30c77b23-36aa-49ae-b263-ced690009de2",
   "metadata": {},
   "outputs": [
    {
     "data": {
      "text/plain": [
       "RegressionMetricResult(mean_absolute_error=np.float64(24963.345448739157), mean_squared_error=np.float64(1439850502.999662), r_square=0.7936613418610978)"
      ]
     },
     "execution_count": 6,
     "metadata": {},
     "output_type": "execute_result"
    }
   ],
   "source": [
    "pipeline.compute_metrics(prediction=prediction)"
   ]
  }
 ],
 "metadata": {
  "kernelspec": {
   "display_name": "Python 3 (ipykernel)",
   "language": "python",
   "name": "python3"
  },
  "language_info": {
   "codemirror_mode": {
    "name": "ipython",
    "version": 3
   },
   "file_extension": ".py",
   "mimetype": "text/x-python",
   "name": "python",
   "nbconvert_exporter": "python",
   "pygments_lexer": "ipython3",
   "version": "3.12.7"
  }
 },
 "nbformat": 4,
 "nbformat_minor": 5
}
